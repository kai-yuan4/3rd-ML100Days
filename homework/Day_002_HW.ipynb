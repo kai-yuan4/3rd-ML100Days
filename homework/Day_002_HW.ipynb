{
 "cells": [
  {
   "cell_type": "markdown",
   "metadata": {},
   "source": [
    "## [作業目標]\n",
    "了解機器學習適合應用的領域與範疇。"
   ]
  },
  {
   "cell_type": "markdown",
   "metadata": {},
   "source": [
    "## [作業重點]\n",
    "透過瞭解機器學習的運作方式，找出非常適用機器學習應用的領域及其原因"
   ]
  },
  {
   "cell_type": "markdown",
   "metadata": {},
   "source": [
    "## 作業\n",
    "請找出一個你認為機器學習可以發光發熱的領域並闡述原因? "
   ]
  },
  {
   "cell_type": "markdown",
   "metadata": {},
   "source": [
    "## Ans : 社會發展領域\n",
    "\n",
    "去年，OpenAI團隊提交了一篇《神經MMO：一個人工智慧的大型多人遊戲環境》論文的初稿。模擬人類與生物的行為，觀察AI在資源有限即具有競爭者的情況下會做出什麼樣的策略及是否能做到不斷學習與進化。\n",
    "這樣類似模擬城市的架構，如果能模擬出歷史中實際的社會環境，是否能在文化的演變，哲學的發展上看到不一樣的亮點?例如：當漢朝不再獨尊儒術，哪一家的學派可以脫穎而出。當歷史已經成真，是否能透過小範圍的模擬去觀察可能的變化，我認為是一件浪漫且有趣的事。\n"
   ]
  },
  {
   "cell_type": "code",
   "execution_count": null,
   "metadata": {},
   "outputs": [],
   "source": []
  }
 ],
 "metadata": {
  "kernelspec": {
   "display_name": "Python 3",
   "language": "python",
   "name": "python3"
  },
  "language_info": {
   "codemirror_mode": {
    "name": "ipython",
    "version": 3
   },
   "file_extension": ".py",
   "mimetype": "text/x-python",
   "name": "python",
   "nbconvert_exporter": "python",
   "pygments_lexer": "ipython3",
   "version": "3.7.0"
  }
 },
 "nbformat": 4,
 "nbformat_minor": 2
}
